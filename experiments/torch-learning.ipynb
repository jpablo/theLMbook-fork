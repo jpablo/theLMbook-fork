{
 "cells": [
  {
   "cell_type": "code",
   "id": "initial_id",
   "metadata": {
    "collapsed": true,
    "ExecuteTime": {
     "end_time": "2025-04-30T22:15:56.615532Z",
     "start_time": "2025-04-30T22:15:55.756845Z"
    }
   },
   "source": [
    "import torch\n",
    "import torch.nn as nn"
   ],
   "outputs": [],
   "execution_count": 1
  },
  {
   "metadata": {},
   "cell_type": "markdown",
   "source": "# Embeddings",
   "id": "bc6fbe23c5f2fb19"
  },
  {
   "metadata": {
    "ExecuteTime": {
     "end_time": "2025-04-30T22:33:26.816163Z",
     "start_time": "2025-04-30T22:33:26.813848Z"
    }
   },
   "cell_type": "code",
   "source": "embedding = nn.Embedding(5, 3)",
   "id": "2a632ca2aab6f22e",
   "outputs": [],
   "execution_count": 77
  },
  {
   "metadata": {},
   "cell_type": "markdown",
   "source": [
    "Each index i $\\in$ 0 ... 4 will be transformed into a 3-vector.\n",
    "\n",
    "More precisely: this creates a $5 \\times 3$ matrix with random values"
   ],
   "id": "a5a8fd615382d8f6"
  },
  {
   "metadata": {
    "ExecuteTime": {
     "end_time": "2025-04-30T22:39:01.808339Z",
     "start_time": "2025-04-30T22:39:01.803181Z"
    }
   },
   "cell_type": "code",
   "source": "embedding.weight",
   "id": "69f2f231c8d0ec2f",
   "outputs": [
    {
     "data": {
      "text/plain": [
       "Parameter containing:\n",
       "tensor([[-1.9462,  0.4058,  0.2216],\n",
       "        [-0.7918, -0.6220,  0.6955],\n",
       "        [ 0.2757,  0.0152,  0.0460],\n",
       "        [ 0.8708,  0.3762, -0.0339],\n",
       "        [ 1.0533, -0.7088, -0.3261]], requires_grad=True)"
      ]
     },
     "execution_count": 86,
     "metadata": {},
     "output_type": "execute_result"
    }
   ],
   "execution_count": 86
  },
  {
   "metadata": {
    "ExecuteTime": {
     "end_time": "2025-04-30T22:36:01.339301Z",
     "start_time": "2025-04-30T22:36:01.337006Z"
    }
   },
   "cell_type": "code",
   "source": "input = torch.LongTensor([[1,2,4,4], [4,3,2,0]])",
   "id": "80ebdf906d2fa852",
   "outputs": [],
   "execution_count": 83
  },
  {
   "metadata": {
    "ExecuteTime": {
     "end_time": "2025-04-30T22:36:02.323575Z",
     "start_time": "2025-04-30T22:36:02.320517Z"
    }
   },
   "cell_type": "code",
   "source": [
    "emb = embedding(input)\n",
    "emb"
   ],
   "id": "8f5d7415c23dd49a",
   "outputs": [
    {
     "data": {
      "text/plain": [
       "tensor([[[-0.7918, -0.6220,  0.6955],\n",
       "         [ 0.2757,  0.0152,  0.0460],\n",
       "         [ 1.0533, -0.7088, -0.3261],\n",
       "         [ 1.0533, -0.7088, -0.3261]],\n",
       "\n",
       "        [[ 1.0533, -0.7088, -0.3261],\n",
       "         [ 0.8708,  0.3762, -0.0339],\n",
       "         [ 0.2757,  0.0152,  0.0460],\n",
       "         [-1.9462,  0.4058,  0.2216]]], grad_fn=<EmbeddingBackward0>)"
      ]
     },
     "execution_count": 84,
     "metadata": {},
     "output_type": "execute_result"
    }
   ],
   "execution_count": 84
  },
  {
   "metadata": {
    "ExecuteTime": {
     "end_time": "2025-04-30T22:41:00.414482Z",
     "start_time": "2025-04-30T22:41:00.410159Z"
    }
   },
   "cell_type": "code",
   "source": "print(embedding(torch.tensor([0, 2, 4])))",
   "id": "84a4960e8acb12c8",
   "outputs": [
    {
     "name": "stdout",
     "output_type": "stream",
     "text": [
      "tensor([[-1.9462,  0.4058,  0.2216],\n",
      "        [ 0.2757,  0.0152,  0.0460],\n",
      "        [ 1.0533, -0.7088, -0.3261]], grad_fn=<EmbeddingBackward0>)\n"
     ]
    }
   ],
   "execution_count": 95
  },
  {
   "metadata": {},
   "cell_type": "code",
   "outputs": [],
   "execution_count": null,
   "source": "",
   "id": "9a06c849799cbafe"
  }
 ],
 "metadata": {
  "kernelspec": {
   "display_name": "Python 3",
   "language": "python",
   "name": "python3"
  },
  "language_info": {
   "codemirror_mode": {
    "name": "ipython",
    "version": 2
   },
   "file_extension": ".py",
   "mimetype": "text/x-python",
   "name": "python",
   "nbconvert_exporter": "python",
   "pygments_lexer": "ipython2",
   "version": "2.7.6"
  }
 },
 "nbformat": 4,
 "nbformat_minor": 5
}
